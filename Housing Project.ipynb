{
 "cells": [
  {
   "cell_type": "markdown",
   "metadata": {},
   "source": [
    "### Group 5\n",
    "### 3/13/17\n",
    "### GEOG 458\n",
    "### Final Project\n",
    "\n",
    "##### This code is used to create new shapefiles from precinct shapefiles with election data added to them.\n",
    "\n",
    "In this code, we first read in a shapefile of Seattle precincts. We then read in a json file with voting data.\n",
    "After, we loop through the json in order to find the amount of people who voted yes to the housing projects and\n",
    "the amount of people who voted no. We then create a dataframe from this information and save it as a shapefile. \n",
    "The file is altered slightly depending on which JSON file we are reading to account for the differences in format."
   ]
  },
  {
   "cell_type": "code",
   "execution_count": 15,
   "metadata": {
    "collapsed": false
   },
   "outputs": [
    {
     "name": "stdout",
     "output_type": "stream",
     "text": [
      "  CCDIST CONGDIST COUNTY COUNTYCODE LEGDIST  PRECCODE     PRECNAME  \\\n",
      "0      8        7   King         KI      34      1245  SEA 34-1245   \n",
      "1      8        7   King         KI      34      1246  SEA 34-1246   \n",
      "2      8        7   King         KI      34      1247  SEA 34-1247   \n",
      "3      8        7   King         KI      34      1248  SEA 34-1248   \n",
      "4      8        7   King         KI      34      1249  SEA 34-1249   \n",
      "\n",
      "      ST_CODE                                           geometry   no  yes  \\\n",
      "0  KI00001245  POLYGON ((1183012.774397416 808026.2671017031,...   64  155   \n",
      "1  KI00001246  POLYGON ((1182709.263579065 806518.6758106559,...   96   83   \n",
      "2  KI00001247  POLYGON ((1180814.392003466 806549.3057386415,...  101   64   \n",
      "3  KI00001248  POLYGON ((1180761.010483327 804585.726539264, ...   79   97   \n",
      "4  KI00001249  POLYGON ((1180761.010483327 804585.726539264, ...   96   86   \n",
      "\n",
      "   ResultPercent  \n",
      "0       2.421875  \n",
      "1       0.864583  \n",
      "2       0.633663  \n",
      "3       1.227848  \n",
      "4       0.895833  \n"
     ]
    }
   ],
   "source": [
    "import geopandas\n",
    "import pandas\n",
    "import json\n",
    "from pandas.io.json import json_normalize\n",
    "\n",
    "gdf = geopandas.read_file(\"C:\\Users\\zwash\\Downloads\\Project5-master\\Project5-master\\Statewide_Prec_2016_NoWater\\Statewide_Prec_2016_NoWater.shp\")\n",
    "#print gdf.head()\n",
    "\n",
    "\n",
    "with open(\"C:\\\\Users\\\\zwash\\\\Downloads\\\\Project5-master\\\\Project5-master\\\\2009data.json\") as json_data:\n",
    "    d = json.load(json_data)\n",
    "\n",
    "d = d['data']\n",
    "precname = [] #8\n",
    "response = [] #10\n",
    "yes = [] #11\n",
    "no = [] #11\n",
    "first = False\n",
    "for x in range(0, len(d)):\n",
    "    if(d[x][13] == \"YES\"):\n",
    "        precname.append(d[x][9])\n",
    "        yes.append(int(d[x][14]))\n",
    "    elif(d[x][13] == \"NO\"):\n",
    "        no.append(int(d[x][14]))\n",
    "\n",
    "resultsdf = pandas.DataFrame({\"PRECNAME\":precname, \"yes\":yes, \"no\":no})\n",
    "\n",
    "merged = gdf.merge(resultsdf, on=\"PRECNAME\")\n",
    "merged['ResultPercent'] = merged['yes'] / merged['no']\n",
    "merged.to_file(\"precincts2009.shp\", driver=\"ESRI Shapefile\")\n",
    "print merged.head()"
   ]
  },
  {
   "cell_type": "code",
   "execution_count": null,
   "metadata": {
    "collapsed": true
   },
   "outputs": [],
   "source": []
  }
 ],
 "metadata": {
  "kernelspec": {
   "display_name": "Python 2",
   "language": "python",
   "name": "python2"
  },
  "language_info": {
   "codemirror_mode": {
    "name": "ipython",
    "version": 2
   },
   "file_extension": ".py",
   "mimetype": "text/x-python",
   "name": "python",
   "nbconvert_exporter": "python",
   "pygments_lexer": "ipython2",
   "version": "2.7.13"
  }
 },
 "nbformat": 4,
 "nbformat_minor": 2
}
